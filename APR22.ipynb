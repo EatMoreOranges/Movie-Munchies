{
 "cells": [
  {
   "cell_type": "code",
   "execution_count": 6,
   "metadata": {},
   "outputs": [],
   "source": [
    "from api import MovieApi \n",
    "import pandas as pd"
   ]
  },
  {
   "cell_type": "code",
   "execution_count": 7,
   "metadata": {},
   "outputs": [],
   "source": [
    "# get movie data\n",
    "session = MovieApi()\n",
    "movies = session.get_top_rated_movies().json()"
   ]
  },
  {
   "cell_type": "code",
   "execution_count": 10,
   "metadata": {},
   "outputs": [],
   "source": [
    "# get movie genre info\n",
    "genres = movies['genres']\n",
    "# new_genre_columns = [str(g['id']) + '_' + str(g['name']) for g in genres] # checkout list comprehesion https://www.digitalocean.com/community/tutorials/understanding-list-comprehensions-in-python-3\n",
    "new_genre_columns = [str(g['id']) for g in genres] \n",
    "# new_genre_columns"
   ]
  },
  {
   "cell_type": "code",
   "execution_count": 9,
   "metadata": {},
   "outputs": [
    {
     "data": {
      "text/plain": [
       "(10000, 14)"
      ]
     },
     "execution_count": 9,
     "metadata": {},
     "output_type": "execute_result"
    }
   ],
   "source": [
    "# read movie data from \"db\" \n",
    "top_movies = pd.read_csv('./top_rated_movies33.csv').drop(columns= ['Unnamed: 0'],axis=1)\n",
    "top_movies.shape"
   ]
  },
  {
   "attachments": {},
   "cell_type": "markdown",
   "metadata": {},
   "source": [
    "### Clean up grenre column and make new ones"
   ]
  },
  {
   "cell_type": "code",
   "execution_count": 11,
   "metadata": {},
   "outputs": [
    {
     "data": {
      "text/plain": [
       "['28',\n",
       " '12',\n",
       " '16',\n",
       " '35',\n",
       " '80',\n",
       " '99',\n",
       " '18',\n",
       " '10751',\n",
       " '14',\n",
       " '36',\n",
       " '27',\n",
       " '10402',\n",
       " '9648',\n",
       " '10749',\n",
       " '878',\n",
       " '10770',\n",
       " '53',\n",
       " '10752',\n",
       " '37']"
      ]
     },
     "execution_count": 11,
     "metadata": {},
     "output_type": "execute_result"
    }
   ],
   "source": [
    "# remove spaces in genre names \n",
    "for i, val in enumerate(new_genre_columns):\n",
    "    new_genre_columns[i] = val.replace(' ','_')\n",
    "new_genre_columns"
   ]
  },
  {
   "cell_type": "code",
   "execution_count": 12,
   "metadata": {},
   "outputs": [
    {
     "data": {
      "text/plain": [
       "(10000, 33)"
      ]
     },
     "execution_count": 12,
     "metadata": {},
     "output_type": "execute_result"
    }
   ],
   "source": [
    "# fill the new genre columns with 0\n",
    "for g in new_genre_columns:\n",
    "    top_movies[g] = 0\n",
    "top_movies.columns\n",
    "top_movies.shape"
   ]
  },
  {
   "cell_type": "code",
   "execution_count": 14,
   "metadata": {},
   "outputs": [],
   "source": [
    "# top_movies.dtypes"
   ]
  },
  {
   "cell_type": "code",
   "execution_count": null,
   "metadata": {},
   "outputs": [],
   "source": [
    "# pre-clean original genre ids\n",
    "top_movies['genre_ids'] = top_movies['genre_ids'].astype(str).apply(lambda a : a.strip(']').strip('['))\n",
    "top_movies.tail()"
   ]
  },
  {
   "attachments": {},
   "cell_type": "markdown",
   "metadata": {},
   "source": [
    "### Genre column clean up end ------------------------------"
   ]
  },
  {
   "attachments": {},
   "cell_type": "markdown",
   "metadata": {},
   "source": [
    "were you left off update:\n",
    "\n",
    "you got the genre column data cleaned up enough to where you can loop through each row, extract the genre data from the original row and place it in the correct new column\n",
    "\n",
    "you are trying to visualize data BUTTTTTTT the genre column has multiple ids per movie and its stored a list thats been turned into a string and you cant undo that ....so far\n",
    "\n",
    "... you did that girl :snaps:\n",
    "\n"
   ]
  },
  {
   "cell_type": "code",
   "execution_count": null,
   "metadata": {},
   "outputs": [],
   "source": [
    "most_important_cols = ['genre_ids',\n",
    "'28',\n",
    "'12',\n",
    "'16',\n",
    "'35',\n",
    "'80',\n",
    "'99',\n",
    "'18',\n",
    "'10751',\n",
    "'14',\n",
    "'36',\n",
    "'27',\n",
    "'10402',\n",
    "'9648',\n",
    "'10749',\n",
    "'878',\n",
    "'10770',\n",
    "'53',\n",
    "'10752',\n",
    "'37']"
   ]
  },
  {
   "cell_type": "code",
   "execution_count": null,
   "metadata": {},
   "outputs": [],
   "source": [
    "baby_df = top_movies.head(6)\n",
    "test = top_movies.head(2).copy()[most_important_cols]\n",
    "print(test)"
   ]
  },
  {
   "cell_type": "code",
   "execution_count": null,
   "metadata": {},
   "outputs": [],
   "source": [
    "df_size = test.shape[0]\n",
    "\n",
    "for i in range(df_size):\n",
    "    # test.iloc[[row]] # you have an individual row whoop whoop\n",
    "    # take the string of genres and make it a list\n",
    "    row = test.iloc[[i]].copy() # do all your work on a copy of the row to avoid a warning\n",
    "    genre_str = row['genre_ids'].to_string().split('    ')\n",
    "    genre_str.pop(0)\n",
    "    genre_list = genre_str[0].split(', ')\n",
    "    \n",
    "    # go through the list of genres \n",
    "    for genre in genre_list:\n",
    "        # and for each genre in the list update the matching column\n",
    "        row[genre] = str(genre) \n",
    "        test.iloc[[i]] = row #set the orginal row equal to the copy\n"
   ]
  },
  {
   "cell_type": "code",
   "execution_count": null,
   "metadata": {},
   "outputs": [],
   "source": [
    "# test\n",
    "just_checkin"
   ]
  },
  {
   "cell_type": "code",
   "execution_count": null,
   "metadata": {},
   "outputs": [],
   "source": [
    "# test['35'].unique()\n",
    "# pd.Series({c: df[c].unique() for c in df}) new cool thing !!! check for unique values in the whole column instead of just 1 column\n",
    "pd.Series({c: test[c].unique() for c in test})"
   ]
  },
  {
   "cell_type": "code",
   "execution_count": null,
   "metadata": {},
   "outputs": [],
   "source": [
    "baby_df.loc[baby_df['genre_ids'] == '35, 14']"
   ]
  },
  {
   "cell_type": "code",
   "execution_count": null,
   "metadata": {},
   "outputs": [],
   "source": [
    "def dosomething(genre_items):\n",
    "    df = baby_df\n",
    "    if type(genre_items) == str:\n",
    "        df.loc[df['genre_ids'] == genre_items]['genre_ids']"
   ]
  },
  {
   "cell_type": "code",
   "execution_count": null,
   "metadata": {},
   "outputs": [],
   "source": [
    "# update_genre_column(top_movies.head(2),'36')\n",
    "[dosomething(genre) for genre in baby_df['genre_ids']]"
   ]
  },
  {
   "attachments": {},
   "cell_type": "markdown",
   "metadata": {},
   "source": [
    "where you left off \n",
    "\n",
    "you're basically done but for some reason your changes aren't being saved in the final data frame"
   ]
  },
  {
   "cell_type": "markdown",
   "metadata": {},
   "source": []
  }
 ],
 "metadata": {
  "kernelspec": {
   "display_name": "movie-env",
   "language": "python",
   "name": "python3"
  },
  "language_info": {
   "codemirror_mode": {
    "name": "ipython",
    "version": 3
   },
   "file_extension": ".py",
   "mimetype": "text/x-python",
   "name": "python",
   "nbconvert_exporter": "python",
   "pygments_lexer": "ipython3",
   "version": "3.9.13"
  },
  "orig_nbformat": 4
 },
 "nbformat": 4,
 "nbformat_minor": 2
}
